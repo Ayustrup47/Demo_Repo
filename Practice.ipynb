{
  "nbformat": 4,
  "nbformat_minor": 0,
  "metadata": {
    "colab": {
      "provenance": [],
      "include_colab_link": true
    },
    "kernelspec": {
      "name": "python3",
      "display_name": "Python 3"
    },
    "language_info": {
      "name": "python"
    }
  },
  "cells": [
    {
      "cell_type": "markdown",
      "metadata": {
        "id": "view-in-github",
        "colab_type": "text"
      },
      "source": [
        "<a href=\"https://colab.research.google.com/github/Ayustrup47/Demo_Repo/blob/main/Practice.ipynb\" target=\"_parent\"><img src=\"https://colab.research.google.com/assets/colab-badge.svg\" alt=\"Open In Colab\"/></a>"
      ]
    },
    {
      "cell_type": "code",
      "execution_count": null,
      "metadata": {
        "colab": {
          "base_uri": "https://localhost:8080/"
        },
        "id": "6f-7Mc1QVJO5",
        "outputId": "c1552fe6-e1b2-445c-b04b-ddbd65c57781"
      },
      "outputs": [
        {
          "output_type": "stream",
          "name": "stdout",
          "text": [
            "Madarchd\n"
          ]
        }
      ],
      "source": [
        "print(\"Madarchd\")"
      ]
    },
    {
      "cell_type": "code",
      "source": [
        "Hello Laude"
      ],
      "metadata": {
        "id": "CxpACsPfZJFc"
      },
      "execution_count": null,
      "outputs": []
    }
  ]
}